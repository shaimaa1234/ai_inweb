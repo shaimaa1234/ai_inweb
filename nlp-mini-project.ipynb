{
 "cells": [
  {
   "cell_type": "code",
   "execution_count": 154,
   "id": "aa75954b",
   "metadata": {},
   "outputs": [],
   "source": [
    "#coding=utf-8\n",
    "import os          # Provides functions for interacting with the operating system, such as file manipulation.\n",
    "#import shutil      # Offers high-level file operations, like copying and moving files.\n",
    "#import kaggle      # Allows interaction with Kaggle's API for dataset downloads and competition submissions.\n",
    "#import zipfile"
   ]
  },
  {
   "cell_type": "code",
   "execution_count": 155,
   "id": "66caf99c",
   "metadata": {},
   "outputs": [],
   "source": [
    "#current_user_profile = os.path.expanduser(\"~\")  # Gets the path to the current user's home directory.\n",
    "#kaggle_directory = os.path.join(current_user_profile, \".kaggle\")  # Constructs the path to the .kaggle directory in the user's home directory.\n",
    "#extract_dir = os.getcwd()  # Gets the current working directory where files will be extracted."
   ]
  },
  {
   "cell_type": "code",
   "execution_count": 156,
   "id": "e8a80e67",
   "metadata": {},
   "outputs": [],
   "source": [
    "#os.makedirs(kaggle_directory, exist_ok=True)  # Creates the .kaggle directory if it does not already exist; does nothing if the directory already exists."
   ]
  },
  {
   "cell_type": "code",
   "execution_count": 157,
   "id": "5e50077f",
   "metadata": {},
   "outputs": [],
   "source": [
    "#kaggle_json_content = {\n",
    "  #  \"username\": \"shaimaahmed\",  # Kaggle username for authentication.\n",
    "  #  \"key\": \"edc7d1ccf0b304c241bb42b1e66e6ae6\"  # Kaggle API key for authentication.\n",
    "#}"
   ]
  },
  {
   "cell_type": "code",
   "execution_count": 158,
   "id": "dc72303f",
   "metadata": {},
   "outputs": [],
   "source": [
    "#kaggle_json_path = os.path.join(kaggle_directory, \"kaggle.json\")  # Constructs the path for the kaggle.json file within the .kaggle directory."
   ]
  },
  {
   "cell_type": "code",
   "execution_count": 159,
   "id": "176d60dd",
   "metadata": {},
   "outputs": [],
   "source": [
    "#with open(kaggle_json_path, \"w\") as json_file:  # Opens (or creates) the kaggle.json file for writing.\n",
    "   # import json  # Imports the JSON module to handle JSON data.\n",
    "  #  json.dump(kaggle_json_content, json_file)  # Writes the Kaggle credentials to the kaggle.json file in JSON format."
   ]
  },
  {
   "cell_type": "code",
   "execution_count": 160,
   "id": "4b7e602b",
   "metadata": {},
   "outputs": [],
   "source": [
    "#api = kaggle.KaggleApi()  # Initializes the Kaggle API client.\n",
    "#api.authenticate()  # Authenticates the client using credentials from kaggle.json."
   ]
  },
  {
   "cell_type": "code",
   "execution_count": 161,
   "id": "bb125853",
   "metadata": {},
   "outputs": [],
   "source": [
    "#dataset_path = os.path.join(extract_dir, 'toxic-comment-classification')"
   ]
  },
  {
   "cell_type": "code",
   "execution_count": 162,
   "id": "740e0f1f",
   "metadata": {},
   "outputs": [],
   "source": [
    "#os.makedirs(dataset_path, exist_ok=True)  # Creates the dataset directory if it does not already exist; does nothing if it already exists."
   ]
  },
  {
   "cell_type": "code",
   "execution_count": 163,
   "id": "6be21129",
   "metadata": {},
   "outputs": [],
   "source": [
    "#api.dataset_download_files('toxic-comment-classification', path=dataset_path, unzip=False)  # Downloads the dataset from Kaggle to the specified path without unzipping it."
   ]
  },
  {
   "cell_type": "code",
   "execution_count": 164,
   "id": "e2caae71",
   "metadata": {},
   "outputs": [],
   "source": [
    "#downloaded_file_path = os.path.join(dataset_path, 'toxic-comment-classification.zip')  # Constructs the path for the downloaded ZIP file."
   ]
  },
  {
   "cell_type": "code",
   "execution_count": 165,
   "id": "48017023",
   "metadata": {},
   "outputs": [],
   "source": [
    "#if os.path.exists(downloaded_file_path):  # Checks if the downloaded ZIP file exists.\n",
    "   # with zipfile.ZipFile(downloaded_file_path, 'r') as zip_ref:  # Opens the ZIP file for reading.\n",
    "       # zip_ref.extractall(dataset_path)  # Extracts all contents of the ZIP file to the dataset directory.\n",
    "   # print(\"Dataset unzipped successfully.\")  # Prints a success message if extraction is successful.\n",
    "#else:\n",
    "  #  print(\"Failed to download the dataset. Please check the Kaggle API setup and try again.\")  # Prints an error message if the ZIP file does not exist."
   ]
  },
  {
   "cell_type": "code",
   "execution_count": 166,
   "id": "a3683fbd",
   "metadata": {},
   "outputs": [
    {
     "name": "stderr",
     "output_type": "stream",
     "text": [
      "[nltk_data] Downloading package punkt to /Users/evi/nltk_data...\n",
      "[nltk_data]   Package punkt is already up-to-date!\n"
     ]
    }
   ],
   "source": [
    "import numpy as np\n",
    "import pandas as pd \n",
    "import matplotlib.pylab as plt\n",
    "from keras import models\n",
    "from keras.layers import Dense\n",
    "from keras.regularizers import l1, l2\n",
    "from sklearn.model_selection import train_test_split\n",
    "from sklearn.metrics import accuracy_score\n",
    "from sklearn.preprocessing import StandardScaler\n",
    "from keras.models import Sequential\n",
    "from keras.utils import to_categorical\n",
    "import seaborn as sns\n",
    "from sklearn.metrics import confusion_matrix, ConfusionMatrixDisplay, classification_report\n",
    "\n",
    "import os\n",
    "import nltk\n",
    "nltk.download('punkt')\n",
    "from nltk.corpus import stopwords\n",
    "import string\n",
    "\n",
    "import nltk\n",
    "from nltk.tokenize import sent_tokenize, word_tokenize\n",
    "\n",
    "import shutil\n",
    "import glob\n",
    "import random\n",
    "import tensorflow as tf\n",
    "from tensorflow.keras.preprocessing.text import Tokenizer\n",
    "from tensorflow.keras.preprocessing.sequence import pad_sequences\n",
    "import pandas as pd\n",
    "import codecs\n",
    "import re"
   ]
  },
  {
   "cell_type": "code",
   "execution_count": 167,
   "id": "e1d610d6",
   "metadata": {
    "scrolled": true
   },
   "outputs": [],
   "source": [
    "#df=pd.read_csv('/Users/evi/Desktop/SMS_train.csv')"
   ]
  },
  {
   "cell_type": "code",
   "execution_count": 168,
   "id": "b01272ee",
   "metadata": {},
   "outputs": [
    {
     "name": "stderr",
     "output_type": "stream",
     "text": [
      "[nltk_data] Downloading package punkt to /Users/evi/nltk_data...\n",
      "[nltk_data]   Package punkt is already up-to-date!\n"
     ]
    },
    {
     "data": {
      "text/plain": [
       "True"
      ]
     },
     "execution_count": 168,
     "metadata": {},
     "output_type": "execute_result"
    }
   ],
   "source": [
    "\n",
    "import nltk\n",
    "import ssl\n",
    "\n",
    "# Set the SSL certificates\n",
    "ssl._create_default_https_context = ssl._create_default_https_context # for Python 3.6 and above\n",
    "nltk.data.path.append(\"/path/to/your/nltk_data\")\n",
    "\n",
    "# Now try loading the punkt data\n",
    "nltk.download('punkt')\n"
   ]
  },
  {
   "cell_type": "code",
   "execution_count": 169,
   "id": "215fffcb",
   "metadata": {},
   "outputs": [
    {
     "data": {
      "text/plain": [
       "'/Users/evi/Desktop/my_advproj'"
      ]
     },
     "execution_count": 169,
     "metadata": {},
     "output_type": "execute_result"
    }
   ],
   "source": [
    "os.getcwd()"
   ]
  },
  {
   "cell_type": "code",
   "execution_count": 170,
   "id": "7afa17c5",
   "metadata": {},
   "outputs": [],
   "source": [
    "#coding=utf-8\n",
    "\n",
    "df_train = pd.read_csv('SMS_train.csv',encoding='Latin-1')\n",
    "df_test = pd.read_csv('SMS_test.csv',encoding='Latin-1')"
   ]
  },
  {
   "cell_type": "code",
   "execution_count": 171,
   "id": "b79c124f",
   "metadata": {},
   "outputs": [
    {
     "data": {
      "text/html": [
       "<div>\n",
       "<style scoped>\n",
       "    .dataframe tbody tr th:only-of-type {\n",
       "        vertical-align: middle;\n",
       "    }\n",
       "\n",
       "    .dataframe tbody tr th {\n",
       "        vertical-align: top;\n",
       "    }\n",
       "\n",
       "    .dataframe thead th {\n",
       "        text-align: right;\n",
       "    }\n",
       "</style>\n",
       "<table border=\"1\" class=\"dataframe\">\n",
       "  <thead>\n",
       "    <tr style=\"text-align: right;\">\n",
       "      <th></th>\n",
       "      <th>S. No.</th>\n",
       "      <th>Message_body</th>\n",
       "      <th>Label</th>\n",
       "    </tr>\n",
       "  </thead>\n",
       "  <tbody>\n",
       "    <tr>\n",
       "      <th>0</th>\n",
       "      <td>1</td>\n",
       "      <td>Rofl. Its true to its name</td>\n",
       "      <td>Non-Spam</td>\n",
       "    </tr>\n",
       "    <tr>\n",
       "      <th>1</th>\n",
       "      <td>2</td>\n",
       "      <td>The guy did some bitching but I acted like i'd...</td>\n",
       "      <td>Non-Spam</td>\n",
       "    </tr>\n",
       "    <tr>\n",
       "      <th>2</th>\n",
       "      <td>3</td>\n",
       "      <td>Pity, * was in mood for that. So...any other s...</td>\n",
       "      <td>Non-Spam</td>\n",
       "    </tr>\n",
       "    <tr>\n",
       "      <th>3</th>\n",
       "      <td>4</td>\n",
       "      <td>Will ü b going to esplanade fr home?</td>\n",
       "      <td>Non-Spam</td>\n",
       "    </tr>\n",
       "    <tr>\n",
       "      <th>4</th>\n",
       "      <td>5</td>\n",
       "      <td>This is the 2nd time we have tried 2 contact u...</td>\n",
       "      <td>Spam</td>\n",
       "    </tr>\n",
       "  </tbody>\n",
       "</table>\n",
       "</div>"
      ],
      "text/plain": [
       "   S. No.                                       Message_body     Label\n",
       "0       1                         Rofl. Its true to its name  Non-Spam\n",
       "1       2  The guy did some bitching but I acted like i'd...  Non-Spam\n",
       "2       3  Pity, * was in mood for that. So...any other s...  Non-Spam\n",
       "3       4               Will ü b going to esplanade fr home?  Non-Spam\n",
       "4       5  This is the 2nd time we have tried 2 contact u...      Spam"
      ]
     },
     "execution_count": 171,
     "metadata": {},
     "output_type": "execute_result"
    }
   ],
   "source": [
    "df_train.head()"
   ]
  },
  {
   "cell_type": "code",
   "execution_count": 172,
   "id": "bcbeded0",
   "metadata": {},
   "outputs": [
    {
     "data": {
      "text/plain": [
       "S. No.          0\n",
       "Message_body    0\n",
       "Label           0\n",
       "dtype: int64"
      ]
     },
     "execution_count": 172,
     "metadata": {},
     "output_type": "execute_result"
    }
   ],
   "source": [
    "# checking for missing values \n",
    "df_train.isnull().sum()"
   ]
  },
  {
   "cell_type": "code",
   "execution_count": 173,
   "id": "b154e07b",
   "metadata": {},
   "outputs": [
    {
     "data": {
      "text/plain": [
       "S. No.          0\n",
       "Message_body    0\n",
       "Label           0\n",
       "dtype: int64"
      ]
     },
     "execution_count": 173,
     "metadata": {},
     "output_type": "execute_result"
    }
   ],
   "source": [
    "df_test.isnull().sum()"
   ]
  },
  {
   "cell_type": "code",
   "execution_count": 174,
   "id": "b25d4171",
   "metadata": {},
   "outputs": [
    {
     "name": "stderr",
     "output_type": "stream",
     "text": [
      "/var/folders/bd/ltrfk09d25dgyjffp5b79m8r0000gn/T/ipykernel_45150/2046042961.py:3: FutureWarning: A value is trying to be set on a copy of a DataFrame or Series through chained assignment using an inplace method.\n",
      "The behavior will change in pandas 3.0. This inplace method will never work because the intermediate object on which we are setting values always behaves as a copy.\n",
      "\n",
      "For example, when doing 'df[col].method(value, inplace=True)', try using 'df.method({col: value}, inplace=True)' or df[col] = df[col].method(value) instead, to perform the operation inplace on the original object.\n",
      "\n",
      "\n",
      "  df_train['Label'].replace(['Spam', 'Non-Spam'],[0, 1], inplace=True)\n",
      "/var/folders/bd/ltrfk09d25dgyjffp5b79m8r0000gn/T/ipykernel_45150/2046042961.py:3: FutureWarning: Downcasting behavior in `replace` is deprecated and will be removed in a future version. To retain the old behavior, explicitly call `result.infer_objects(copy=False)`. To opt-in to the future behavior, set `pd.set_option('future.no_silent_downcasting', True)`\n",
      "  df_train['Label'].replace(['Spam', 'Non-Spam'],[0, 1], inplace=True)\n",
      "/var/folders/bd/ltrfk09d25dgyjffp5b79m8r0000gn/T/ipykernel_45150/2046042961.py:5: FutureWarning: A value is trying to be set on a copy of a DataFrame or Series through chained assignment using an inplace method.\n",
      "The behavior will change in pandas 3.0. This inplace method will never work because the intermediate object on which we are setting values always behaves as a copy.\n",
      "\n",
      "For example, when doing 'df[col].method(value, inplace=True)', try using 'df.method({col: value}, inplace=True)' or df[col] = df[col].method(value) instead, to perform the operation inplace on the original object.\n",
      "\n",
      "\n",
      "  df_test['Label'].replace(['Spam', 'Non-Spam'],[0, 1], inplace=True)\n",
      "/var/folders/bd/ltrfk09d25dgyjffp5b79m8r0000gn/T/ipykernel_45150/2046042961.py:5: FutureWarning: Downcasting behavior in `replace` is deprecated and will be removed in a future version. To retain the old behavior, explicitly call `result.infer_objects(copy=False)`. To opt-in to the future behavior, set `pd.set_option('future.no_silent_downcasting', True)`\n",
      "  df_test['Label'].replace(['Spam', 'Non-Spam'],[0, 1], inplace=True)\n"
     ]
    }
   ],
   "source": [
    "\n",
    "\n",
    "#Converting Categorical Variable to Numeric\n",
    "\n",
    "df_train['Label'].replace(['Spam', 'Non-Spam'],[0, 1], inplace=True)\n",
    "\n",
    "df_test['Label'].replace(['Spam', 'Non-Spam'],[0, 1], inplace=True)\n"
   ]
  },
  {
   "cell_type": "code",
   "execution_count": 175,
   "id": "4cbbfcb7",
   "metadata": {
    "scrolled": true
   },
   "outputs": [
    {
     "data": {
      "text/html": [
       "<div>\n",
       "<style scoped>\n",
       "    .dataframe tbody tr th:only-of-type {\n",
       "        vertical-align: middle;\n",
       "    }\n",
       "\n",
       "    .dataframe tbody tr th {\n",
       "        vertical-align: top;\n",
       "    }\n",
       "\n",
       "    .dataframe thead th {\n",
       "        text-align: right;\n",
       "    }\n",
       "</style>\n",
       "<table border=\"1\" class=\"dataframe\">\n",
       "  <thead>\n",
       "    <tr style=\"text-align: right;\">\n",
       "      <th></th>\n",
       "      <th>S. No.</th>\n",
       "      <th>Message_body</th>\n",
       "      <th>Label</th>\n",
       "    </tr>\n",
       "  </thead>\n",
       "  <tbody>\n",
       "    <tr>\n",
       "      <th>0</th>\n",
       "      <td>1</td>\n",
       "      <td>Rofl. Its true to its name</td>\n",
       "      <td>1</td>\n",
       "    </tr>\n",
       "    <tr>\n",
       "      <th>1</th>\n",
       "      <td>2</td>\n",
       "      <td>The guy did some bitching but I acted like i'd...</td>\n",
       "      <td>1</td>\n",
       "    </tr>\n",
       "    <tr>\n",
       "      <th>2</th>\n",
       "      <td>3</td>\n",
       "      <td>Pity, * was in mood for that. So...any other s...</td>\n",
       "      <td>1</td>\n",
       "    </tr>\n",
       "    <tr>\n",
       "      <th>3</th>\n",
       "      <td>4</td>\n",
       "      <td>Will ü b going to esplanade fr home?</td>\n",
       "      <td>1</td>\n",
       "    </tr>\n",
       "    <tr>\n",
       "      <th>4</th>\n",
       "      <td>5</td>\n",
       "      <td>This is the 2nd time we have tried 2 contact u...</td>\n",
       "      <td>0</td>\n",
       "    </tr>\n",
       "    <tr>\n",
       "      <th>...</th>\n",
       "      <td>...</td>\n",
       "      <td>...</td>\n",
       "      <td>...</td>\n",
       "    </tr>\n",
       "    <tr>\n",
       "      <th>952</th>\n",
       "      <td>953</td>\n",
       "      <td>hows my favourite person today? r u workin har...</td>\n",
       "      <td>1</td>\n",
       "    </tr>\n",
       "    <tr>\n",
       "      <th>953</th>\n",
       "      <td>954</td>\n",
       "      <td>How much you got for cleaning</td>\n",
       "      <td>1</td>\n",
       "    </tr>\n",
       "    <tr>\n",
       "      <th>954</th>\n",
       "      <td>955</td>\n",
       "      <td>Sorry da. I gone mad so many pending works wha...</td>\n",
       "      <td>1</td>\n",
       "    </tr>\n",
       "    <tr>\n",
       "      <th>955</th>\n",
       "      <td>956</td>\n",
       "      <td>Wat time ü finish?</td>\n",
       "      <td>1</td>\n",
       "    </tr>\n",
       "    <tr>\n",
       "      <th>956</th>\n",
       "      <td>957</td>\n",
       "      <td>Just glad to be talking to you.</td>\n",
       "      <td>1</td>\n",
       "    </tr>\n",
       "  </tbody>\n",
       "</table>\n",
       "<p>957 rows × 3 columns</p>\n",
       "</div>"
      ],
      "text/plain": [
       "     S. No.                                       Message_body  Label\n",
       "0         1                         Rofl. Its true to its name      1\n",
       "1         2  The guy did some bitching but I acted like i'd...      1\n",
       "2         3  Pity, * was in mood for that. So...any other s...      1\n",
       "3         4               Will ü b going to esplanade fr home?      1\n",
       "4         5  This is the 2nd time we have tried 2 contact u...      0\n",
       "..      ...                                                ...    ...\n",
       "952     953  hows my favourite person today? r u workin har...      1\n",
       "953     954                      How much you got for cleaning      1\n",
       "954     955  Sorry da. I gone mad so many pending works wha...      1\n",
       "955     956                                 Wat time ü finish?      1\n",
       "956     957                    Just glad to be talking to you.      1\n",
       "\n",
       "[957 rows x 3 columns]"
      ]
     },
     "execution_count": 175,
     "metadata": {},
     "output_type": "execute_result"
    }
   ],
   "source": [
    "df_train"
   ]
  },
  {
   "cell_type": "code",
   "execution_count": 176,
   "id": "6762ba0f",
   "metadata": {},
   "outputs": [
    {
     "data": {
      "text/html": [
       "<div>\n",
       "<style scoped>\n",
       "    .dataframe tbody tr th:only-of-type {\n",
       "        vertical-align: middle;\n",
       "    }\n",
       "\n",
       "    .dataframe tbody tr th {\n",
       "        vertical-align: top;\n",
       "    }\n",
       "\n",
       "    .dataframe thead th {\n",
       "        text-align: right;\n",
       "    }\n",
       "</style>\n",
       "<table border=\"1\" class=\"dataframe\">\n",
       "  <thead>\n",
       "    <tr style=\"text-align: right;\">\n",
       "      <th></th>\n",
       "      <th>S. No.</th>\n",
       "      <th>Message_body</th>\n",
       "      <th>Label</th>\n",
       "    </tr>\n",
       "  </thead>\n",
       "  <tbody>\n",
       "    <tr>\n",
       "      <th>0</th>\n",
       "      <td>1</td>\n",
       "      <td>UpgrdCentre Orange customer, you may now claim...</td>\n",
       "      <td>0</td>\n",
       "    </tr>\n",
       "    <tr>\n",
       "      <th>1</th>\n",
       "      <td>2</td>\n",
       "      <td>Loan for any purpose £500 - £75,000. Homeowner...</td>\n",
       "      <td>0</td>\n",
       "    </tr>\n",
       "    <tr>\n",
       "      <th>2</th>\n",
       "      <td>3</td>\n",
       "      <td>Congrats! Nokia 3650 video camera phone is you...</td>\n",
       "      <td>0</td>\n",
       "    </tr>\n",
       "    <tr>\n",
       "      <th>3</th>\n",
       "      <td>4</td>\n",
       "      <td>URGENT! Your Mobile number has been awarded wi...</td>\n",
       "      <td>0</td>\n",
       "    </tr>\n",
       "    <tr>\n",
       "      <th>4</th>\n",
       "      <td>5</td>\n",
       "      <td>Someone has contacted our dating service and e...</td>\n",
       "      <td>0</td>\n",
       "    </tr>\n",
       "    <tr>\n",
       "      <th>...</th>\n",
       "      <td>...</td>\n",
       "      <td>...</td>\n",
       "      <td>...</td>\n",
       "    </tr>\n",
       "    <tr>\n",
       "      <th>120</th>\n",
       "      <td>121</td>\n",
       "      <td>7 wonders in My WORLD 7th You 6th Ur style 5th...</td>\n",
       "      <td>1</td>\n",
       "    </tr>\n",
       "    <tr>\n",
       "      <th>121</th>\n",
       "      <td>122</td>\n",
       "      <td>Try to do something dear. You read something f...</td>\n",
       "      <td>1</td>\n",
       "    </tr>\n",
       "    <tr>\n",
       "      <th>122</th>\n",
       "      <td>123</td>\n",
       "      <td>Sun ah... Thk mayb can if dun have anythin on....</td>\n",
       "      <td>1</td>\n",
       "    </tr>\n",
       "    <tr>\n",
       "      <th>123</th>\n",
       "      <td>124</td>\n",
       "      <td>SYMPTOMS when U are in love: \"1.U like listeni...</td>\n",
       "      <td>1</td>\n",
       "    </tr>\n",
       "    <tr>\n",
       "      <th>124</th>\n",
       "      <td>125</td>\n",
       "      <td>Great. Have a safe trip. Dont panic surrender ...</td>\n",
       "      <td>1</td>\n",
       "    </tr>\n",
       "  </tbody>\n",
       "</table>\n",
       "<p>125 rows × 3 columns</p>\n",
       "</div>"
      ],
      "text/plain": [
       "     S. No.                                       Message_body  Label\n",
       "0         1  UpgrdCentre Orange customer, you may now claim...      0\n",
       "1         2  Loan for any purpose £500 - £75,000. Homeowner...      0\n",
       "2         3  Congrats! Nokia 3650 video camera phone is you...      0\n",
       "3         4  URGENT! Your Mobile number has been awarded wi...      0\n",
       "4         5  Someone has contacted our dating service and e...      0\n",
       "..      ...                                                ...    ...\n",
       "120     121  7 wonders in My WORLD 7th You 6th Ur style 5th...      1\n",
       "121     122  Try to do something dear. You read something f...      1\n",
       "122     123  Sun ah... Thk mayb can if dun have anythin on....      1\n",
       "123     124  SYMPTOMS when U are in love: \"1.U like listeni...      1\n",
       "124     125  Great. Have a safe trip. Dont panic surrender ...      1\n",
       "\n",
       "[125 rows x 3 columns]"
      ]
     },
     "execution_count": 176,
     "metadata": {},
     "output_type": "execute_result"
    }
   ],
   "source": [
    "df_test"
   ]
  },
  {
   "cell_type": "code",
   "execution_count": 177,
   "id": "9e360a10",
   "metadata": {},
   "outputs": [
    {
     "name": "stderr",
     "output_type": "stream",
     "text": [
      "[nltk_data] Downloading package wordnet to /Users/evi/nltk_data...\n",
      "[nltk_data]   Package wordnet is already up-to-date!\n"
     ]
    },
    {
     "data": {
      "text/plain": [
       "True"
      ]
     },
     "execution_count": 177,
     "metadata": {},
     "output_type": "execute_result"
    }
   ],
   "source": [
    "import nltk \n",
    "nltk.download('wordnet')"
   ]
  },
  {
   "cell_type": "code",
   "execution_count": 178,
   "id": "3e6ecfd8",
   "metadata": {
    "scrolled": true
   },
   "outputs": [
    {
     "data": {
      "text/html": [
       "<div>\n",
       "<style scoped>\n",
       "    .dataframe tbody tr th:only-of-type {\n",
       "        vertical-align: middle;\n",
       "    }\n",
       "\n",
       "    .dataframe tbody tr th {\n",
       "        vertical-align: top;\n",
       "    }\n",
       "\n",
       "    .dataframe thead th {\n",
       "        text-align: right;\n",
       "    }\n",
       "</style>\n",
       "<table border=\"1\" class=\"dataframe\">\n",
       "  <thead>\n",
       "    <tr style=\"text-align: right;\">\n",
       "      <th></th>\n",
       "      <th>S. No.</th>\n",
       "      <th>Message_body</th>\n",
       "      <th>Label</th>\n",
       "      <th>processed</th>\n",
       "    </tr>\n",
       "  </thead>\n",
       "  <tbody>\n",
       "    <tr>\n",
       "      <th>0</th>\n",
       "      <td>1</td>\n",
       "      <td>Rofl. Its true to its name</td>\n",
       "      <td>1</td>\n",
       "      <td>rofl true name</td>\n",
       "    </tr>\n",
       "    <tr>\n",
       "      <th>1</th>\n",
       "      <td>2</td>\n",
       "      <td>The guy did some bitching but I acted like i'd...</td>\n",
       "      <td>1</td>\n",
       "      <td>guy bitching acted like id interested buying s...</td>\n",
       "    </tr>\n",
       "    <tr>\n",
       "      <th>2</th>\n",
       "      <td>3</td>\n",
       "      <td>Pity, * was in mood for that. So...any other s...</td>\n",
       "      <td>1</td>\n",
       "      <td>pity mood soany suggestions</td>\n",
       "    </tr>\n",
       "    <tr>\n",
       "      <th>3</th>\n",
       "      <td>4</td>\n",
       "      <td>Will ü b going to esplanade fr home?</td>\n",
       "      <td>1</td>\n",
       "      <td>ü b going esplanade fr home</td>\n",
       "    </tr>\n",
       "    <tr>\n",
       "      <th>4</th>\n",
       "      <td>5</td>\n",
       "      <td>This is the 2nd time we have tried 2 contact u...</td>\n",
       "      <td>0</td>\n",
       "      <td>nd time tried contact u u £ pound prize claim ...</td>\n",
       "    </tr>\n",
       "  </tbody>\n",
       "</table>\n",
       "</div>"
      ],
      "text/plain": [
       "   S. No.                                       Message_body  Label  \\\n",
       "0       1                         Rofl. Its true to its name      1   \n",
       "1       2  The guy did some bitching but I acted like i'd...      1   \n",
       "2       3  Pity, * was in mood for that. So...any other s...      1   \n",
       "3       4               Will ü b going to esplanade fr home?      1   \n",
       "4       5  This is the 2nd time we have tried 2 contact u...      0   \n",
       "\n",
       "                                           processed  \n",
       "0                                     rofl true name  \n",
       "1  guy bitching acted like id interested buying s...  \n",
       "2                        pity mood soany suggestions  \n",
       "3                        ü b going esplanade fr home  \n",
       "4  nd time tried contact u u £ pound prize claim ...  "
      ]
     },
     "execution_count": 178,
     "metadata": {},
     "output_type": "execute_result"
    }
   ],
   "source": [
    "#task1 \n",
    "# text preprocessing \n",
    "train_set=df_train['Message_body']\n",
    "test_set=df_test['Message_body']\n",
    "    \n",
    "\n",
    "def process_text(text):\n",
    "    \n",
    "    # Remove digits and punctuation\n",
    "    text = text.translate(str.maketrans('', '', string.digits + string.punctuation))\n",
    "\n",
    "    # Lowercase the text\n",
    "    text = text.lower()\n",
    "\n",
    "    # Tokenize the text into words\n",
    "    tokens = nltk.word_tokenize(text)\n",
    "\n",
    "    # Remove stop words\n",
    "    stop_words = set(stopwords.words('english'))\n",
    "    filtered_tokens = [token for token in tokens if token not in stop_words]\n",
    "\n",
    "    # Join the filtered tokens back into a string\n",
    "    filtered_text = \" \".join(filtered_tokens)\n",
    "\n",
    "    return filtered_text\n",
    "\n",
    "from nltk.stem.porter import PorterStemmer\n",
    "from nltk.stem import WordNetLemmatizer\n",
    "from sklearn.feature_extraction.text import CountVectorizer\n",
    "\n",
    "for txt in train_set:\n",
    "    processed_text = process_text(txt)\n",
    "        #stemming\n",
    "    #stemmer = PorterStemmer()\n",
    "    #print(stemmer.stem(processed_text))\n",
    "        #lemmatization\n",
    "    #lemmatizer = WordNetLemmatizer()\n",
    "    #print(lemmatizer.lemmatize(processed_text))\n",
    "df_train['processed']=df_train['Message_body'].apply(lambda x: process_text(x))\n",
    "df_train.head()"
   ]
  },
  {
   "cell_type": "code",
   "execution_count": 179,
   "id": "94ad0d83",
   "metadata": {
    "scrolled": false
   },
   "outputs": [
    {
     "data": {
      "text/html": [
       "<div>\n",
       "<style scoped>\n",
       "    .dataframe tbody tr th:only-of-type {\n",
       "        vertical-align: middle;\n",
       "    }\n",
       "\n",
       "    .dataframe tbody tr th {\n",
       "        vertical-align: top;\n",
       "    }\n",
       "\n",
       "    .dataframe thead th {\n",
       "        text-align: right;\n",
       "    }\n",
       "</style>\n",
       "<table border=\"1\" class=\"dataframe\">\n",
       "  <thead>\n",
       "    <tr style=\"text-align: right;\">\n",
       "      <th></th>\n",
       "      <th>S. No.</th>\n",
       "      <th>Message_body</th>\n",
       "      <th>Label</th>\n",
       "      <th>processed</th>\n",
       "      <th>stemmed</th>\n",
       "    </tr>\n",
       "  </thead>\n",
       "  <tbody>\n",
       "    <tr>\n",
       "      <th>0</th>\n",
       "      <td>1</td>\n",
       "      <td>Rofl. Its true to its name</td>\n",
       "      <td>1</td>\n",
       "      <td>rofl true name</td>\n",
       "      <td>rofl. its true to its nam</td>\n",
       "    </tr>\n",
       "    <tr>\n",
       "      <th>1</th>\n",
       "      <td>2</td>\n",
       "      <td>The guy did some bitching but I acted like i'd...</td>\n",
       "      <td>1</td>\n",
       "      <td>guy bitching acted like id interested buying s...</td>\n",
       "      <td>the guy did some bitching but i acted like i'd...</td>\n",
       "    </tr>\n",
       "    <tr>\n",
       "      <th>2</th>\n",
       "      <td>3</td>\n",
       "      <td>Pity, * was in mood for that. So...any other s...</td>\n",
       "      <td>1</td>\n",
       "      <td>pity mood soany suggestions</td>\n",
       "      <td>pity, * was in mood for that. so...any other s...</td>\n",
       "    </tr>\n",
       "    <tr>\n",
       "      <th>3</th>\n",
       "      <td>4</td>\n",
       "      <td>Will ü b going to esplanade fr home?</td>\n",
       "      <td>1</td>\n",
       "      <td>ü b going esplanade fr home</td>\n",
       "      <td>will ü b going to esplanade fr home?</td>\n",
       "    </tr>\n",
       "    <tr>\n",
       "      <th>4</th>\n",
       "      <td>5</td>\n",
       "      <td>This is the 2nd time we have tried 2 contact u...</td>\n",
       "      <td>0</td>\n",
       "      <td>nd time tried contact u u £ pound prize claim ...</td>\n",
       "      <td>this is the 2nd time we have tried 2 contact u...</td>\n",
       "    </tr>\n",
       "  </tbody>\n",
       "</table>\n",
       "</div>"
      ],
      "text/plain": [
       "   S. No.                                       Message_body  Label  \\\n",
       "0       1                         Rofl. Its true to its name      1   \n",
       "1       2  The guy did some bitching but I acted like i'd...      1   \n",
       "2       3  Pity, * was in mood for that. So...any other s...      1   \n",
       "3       4               Will ü b going to esplanade fr home?      1   \n",
       "4       5  This is the 2nd time we have tried 2 contact u...      0   \n",
       "\n",
       "                                           processed  \\\n",
       "0                                     rofl true name   \n",
       "1  guy bitching acted like id interested buying s...   \n",
       "2                        pity mood soany suggestions   \n",
       "3                        ü b going esplanade fr home   \n",
       "4  nd time tried contact u u £ pound prize claim ...   \n",
       "\n",
       "                                             stemmed  \n",
       "0                          rofl. its true to its nam  \n",
       "1  the guy did some bitching but i acted like i'd...  \n",
       "2  pity, * was in mood for that. so...any other s...  \n",
       "3               will ü b going to esplanade fr home?  \n",
       "4  this is the 2nd time we have tried 2 contact u...  "
      ]
     },
     "execution_count": 179,
     "metadata": {},
     "output_type": "execute_result"
    }
   ],
   "source": [
    "# Stemming\n",
    "from nltk.stem.porter import PorterStemmer\n",
    "stemmer = PorterStemmer()\n",
    "#for stemmed_text in train_set:\n",
    "    #stemmer.stem(stemmed_text)\n",
    "df_train['stemmed']=df_train['Message_body'].apply(lambda x: stemmer.stem(x))\n",
    "df_train.head()"
   ]
  },
  {
   "cell_type": "code",
   "execution_count": 180,
   "id": "9758f1d1",
   "metadata": {},
   "outputs": [
    {
     "name": "stderr",
     "output_type": "stream",
     "text": [
      "[nltk_data] Downloading package stopwords to /Users/evi/nltk_data...\n",
      "[nltk_data]   Package stopwords is already up-to-date!\n"
     ]
    },
    {
     "data": {
      "text/plain": [
       "True"
      ]
     },
     "execution_count": 180,
     "metadata": {},
     "output_type": "execute_result"
    }
   ],
   "source": [
    "import nltk \n",
    "nltk.download('stopwords')"
   ]
  },
  {
   "cell_type": "code",
   "execution_count": 181,
   "id": "09bf7d44",
   "metadata": {
    "scrolled": true
   },
   "outputs": [
    {
     "data": {
      "text/html": [
       "<div>\n",
       "<style scoped>\n",
       "    .dataframe tbody tr th:only-of-type {\n",
       "        vertical-align: middle;\n",
       "    }\n",
       "\n",
       "    .dataframe tbody tr th {\n",
       "        vertical-align: top;\n",
       "    }\n",
       "\n",
       "    .dataframe thead th {\n",
       "        text-align: right;\n",
       "    }\n",
       "</style>\n",
       "<table border=\"1\" class=\"dataframe\">\n",
       "  <thead>\n",
       "    <tr style=\"text-align: right;\">\n",
       "      <th></th>\n",
       "      <th>S. No.</th>\n",
       "      <th>Message_body</th>\n",
       "      <th>Label</th>\n",
       "      <th>processed</th>\n",
       "      <th>stemmed</th>\n",
       "      <th>lemmatized</th>\n",
       "    </tr>\n",
       "  </thead>\n",
       "  <tbody>\n",
       "    <tr>\n",
       "      <th>0</th>\n",
       "      <td>1</td>\n",
       "      <td>Rofl. Its true to its name</td>\n",
       "      <td>1</td>\n",
       "      <td>rofl true name</td>\n",
       "      <td>rofl. its true to its nam</td>\n",
       "      <td>Rofl. Its true to its name</td>\n",
       "    </tr>\n",
       "    <tr>\n",
       "      <th>1</th>\n",
       "      <td>2</td>\n",
       "      <td>The guy did some bitching but I acted like i'd...</td>\n",
       "      <td>1</td>\n",
       "      <td>guy bitching acted like id interested buying s...</td>\n",
       "      <td>the guy did some bitching but i acted like i'd...</td>\n",
       "      <td>The guy did some bitching but I acted like i'd...</td>\n",
       "    </tr>\n",
       "    <tr>\n",
       "      <th>2</th>\n",
       "      <td>3</td>\n",
       "      <td>Pity, * was in mood for that. So...any other s...</td>\n",
       "      <td>1</td>\n",
       "      <td>pity mood soany suggestions</td>\n",
       "      <td>pity, * was in mood for that. so...any other s...</td>\n",
       "      <td>Pity, * was in mood for that. So...any other s...</td>\n",
       "    </tr>\n",
       "    <tr>\n",
       "      <th>3</th>\n",
       "      <td>4</td>\n",
       "      <td>Will ü b going to esplanade fr home?</td>\n",
       "      <td>1</td>\n",
       "      <td>ü b going esplanade fr home</td>\n",
       "      <td>will ü b going to esplanade fr home?</td>\n",
       "      <td>Will ü b going to esplanade fr home?</td>\n",
       "    </tr>\n",
       "    <tr>\n",
       "      <th>4</th>\n",
       "      <td>5</td>\n",
       "      <td>This is the 2nd time we have tried 2 contact u...</td>\n",
       "      <td>0</td>\n",
       "      <td>nd time tried contact u u £ pound prize claim ...</td>\n",
       "      <td>this is the 2nd time we have tried 2 contact u...</td>\n",
       "      <td>This is the 2nd time we have tried 2 contact u...</td>\n",
       "    </tr>\n",
       "  </tbody>\n",
       "</table>\n",
       "</div>"
      ],
      "text/plain": [
       "   S. No.                                       Message_body  Label  \\\n",
       "0       1                         Rofl. Its true to its name      1   \n",
       "1       2  The guy did some bitching but I acted like i'd...      1   \n",
       "2       3  Pity, * was in mood for that. So...any other s...      1   \n",
       "3       4               Will ü b going to esplanade fr home?      1   \n",
       "4       5  This is the 2nd time we have tried 2 contact u...      0   \n",
       "\n",
       "                                           processed  \\\n",
       "0                                     rofl true name   \n",
       "1  guy bitching acted like id interested buying s...   \n",
       "2                        pity mood soany suggestions   \n",
       "3                        ü b going esplanade fr home   \n",
       "4  nd time tried contact u u £ pound prize claim ...   \n",
       "\n",
       "                                             stemmed  \\\n",
       "0                          rofl. its true to its nam   \n",
       "1  the guy did some bitching but i acted like i'd...   \n",
       "2  pity, * was in mood for that. so...any other s...   \n",
       "3               will ü b going to esplanade fr home?   \n",
       "4  this is the 2nd time we have tried 2 contact u...   \n",
       "\n",
       "                                          lemmatized  \n",
       "0                         Rofl. Its true to its name  \n",
       "1  The guy did some bitching but I acted like i'd...  \n",
       "2  Pity, * was in mood for that. So...any other s...  \n",
       "3               Will ü b going to esplanade fr home?  \n",
       "4  This is the 2nd time we have tried 2 contact u...  "
      ]
     },
     "execution_count": 181,
     "metadata": {},
     "output_type": "execute_result"
    }
   ],
   "source": [
    "\n",
    "        #lemmatization\n",
    "from nltk.stem import WordNetLemmatizer\n",
    "lemmatizer = WordNetLemmatizer()\n",
    "#for lemmatized_text in train_set:\n",
    "    #print(lemmatizer.lemmatize(lemmatized_text))\n",
    "df_train['lemmatized']=df_train['Message_body'].apply(lambda x: lemmatizer.lemmatize(x))\n",
    "df_train.head()"
   ]
  },
  {
   "cell_type": "code",
   "execution_count": 182,
   "id": "5d0ed932",
   "metadata": {},
   "outputs": [],
   "source": [
    "#label preprocessing\n",
    "#label to logical\n",
    "from sklearn.preprocessing import LabelEncoder\n",
    "label_encoder = LabelEncoder()\n",
    "train_labels_encoded = label_encoder.fit_transform(df_train['Label'])\n",
    "test_labels_encoded = label_encoder.fit_transform(df_test['Label'])"
   ]
  },
  {
   "cell_type": "code",
   "execution_count": 183,
   "id": "5addf125",
   "metadata": {},
   "outputs": [
    {
     "data": {
      "text/plain": [
       "array([1, 1, 1, 1, 0])"
      ]
     },
     "execution_count": 183,
     "metadata": {},
     "output_type": "execute_result"
    }
   ],
   "source": [
    "\n",
    "train_labels_encoded[:5]"
   ]
  },
  {
   "cell_type": "code",
   "execution_count": 184,
   "id": "4eaf167e",
   "metadata": {},
   "outputs": [
    {
     "data": {
      "image/png": "[encoded data removed]",
      "text/plain": [
       "<Figure size 640x480 with 1 Axes>"
      ]
     },
     "metadata": {},
     "output_type": "display_data"
    }
   ],
   "source": [
    "#task2 \n",
    "# Visualize\n",
    "label_counts = df_train['Label'].value_counts()\n",
    "labels = label_counts.index\n",
    "counts = label_counts.values\n",
    "\n",
    "# Create a bar chart\n",
    "plt.bar(labels, counts, color=['blue', 'green'])\n",
    "plt.xlabel('Label')\n",
    "plt.ylabel('Count')\n",
    "plt.title('Distribution of Labels in Training Dataset')\n",
    "plt.show()"
   ]
  },
  {
   "cell_type": "code",
   "execution_count": 185,
   "id": "d2f4021a",
   "metadata": {},
   "outputs": [
    {
     "name": "stdout",
     "output_type": "stream",
     "text": [
      "[0 0 0 0 0 1 0 1 0 0 0 0 0 0 0 0 1 1 0 0 0 0 1 0 0 0 0 0 0 0 1 1 1 0 0 0 0\n",
      " 1 0 0 0 0 0 1 1 0 0 0 0 0 0 1 0 0 0 1 0 0 1 0 0 0 0 0 1 0 1 1 1 1 1 1 1 1\n",
      " 0 1 1 1 1 1 1 1 1 1 0 1 1 1 1 0 1 1 0 1 1 1 1 0 0 0 1 1 1 1 1 1 1 1 1 1 1\n",
      " 1 1 1 1 1 1 1 1 1 1 1 1 1 1]\n"
     ]
    }
   ],
   "source": [
    "print(test_predictions)"
   ]
  },
  {
   "cell_type": "code",
   "execution_count": 191,
   "id": "cbb2caf7",
   "metadata": {},
   "outputs": [
    {
     "name": "stdout",
     "output_type": "stream",
     "text": [
      "TF-IDF SVM Model Results:\n",
      "Test Accuracy: 96.35%\n",
      "\n",
      "Classification Report:\n",
      "              precision    recall  f1-score   support\n",
      "\n",
      "           0       1.00      0.74      0.85        27\n",
      "           1       0.96      1.00      0.98       165\n",
      "\n",
      "    accuracy                           0.96       192\n",
      "   macro avg       0.98      0.87      0.92       192\n",
      "weighted avg       0.97      0.96      0.96       192\n",
      "\n"
     ]
    }
   ],
   "source": [
    "\n",
    "#  SVM -- TF-IDF\n",
    "from sklearn.feature_extraction.text import TfidfVectorizer\n",
    "from sklearn.model_selection import train_test_split\n",
    "from sklearn.svm import SVC\n",
    "from sklearn.metrics import accuracy_score, classification_report\n",
    "\n",
    "# Split the data into training and testing sets\n",
    "X_train, X_test, y_train, y_test = train_test_split(df_train['Message_body'], df_train['Label'], test_size=0.2, random_state=42)\n",
    "\n",
    "# Apply TF-IDF\n",
    "tfidf_vectorizer = TfidfVectorizer(stop_words='english')\n",
    "X_train_tfidf = tfidf_vectorizer.fit_transform(X_train)\n",
    "X_test_tfidf = tfidf_vectorizer.transform(X_test)\n",
    "\n",
    "# Train SVM model\n",
    "svm_model_tfidf = SVC(kernel='linear')\n",
    "svm_model_tfidf.fit(X_train_tfidf, y_train)\n",
    "\n",
    "# Make predictions on the test set\n",
    "y_pred_tfidf = svm_model_tfidf.predict(X_test_tfidf)\n",
    "\n",
    "# Evaluate the model\n",
    "accuracy_tfidf = accuracy_score(y_test, y_pred_tfidf)\n",
    "classification_report_tfidf = classification_report(y_test, y_pred_tfidf)\n",
    "\n",
    "# Print the results\n",
    "print(\"TF-IDF SVM Model Results:\")\n",
    "print(f\"Test Accuracy: {accuracy_tfidf:.2%}\")\n",
    "print(\"\\nClassification Report:\")\n",
    "print(classification_report_tfidf)"
   ]
  },
  {
   "cell_type": "code",
   "execution_count": 187,
   "id": "29148e5e",
   "metadata": {},
   "outputs": [
    {
     "name": "stdout",
     "output_type": "stream",
     "text": [
      "Requirement already satisfied: joblib in /opt/anaconda3/envs/adv_ai/lib/python3.11/site-packages (1.4.2)\n"
     ]
    }
   ],
   "source": [
    "!pip3 install joblib"
   ]
  },
  {
   "cell_type": "code",
   "execution_count": 188,
   "id": "87ce2dc7",
   "metadata": {},
   "outputs": [
    {
     "data": {
      "text/plain": [
       "['SVM_model.pkl']"
      ]
     },
     "execution_count": 188,
     "metadata": {},
     "output_type": "execute_result"
    }
   ],
   "source": [
    "import joblib\n",
    "\n",
    "joblib.dump(svm_model_tfidf, 'SVM_model.pkl')\n"
   ]
  },
  {
   "cell_type": "code",
   "execution_count": 195,
   "id": "f39f8fc8",
   "metadata": {},
   "outputs": [
    {
     "data": {
      "text/plain": [
       "['app/vectorizer.pkl']"
      ]
     },
     "execution_count": 195,
     "metadata": {},
     "output_type": "execute_result"
    }
   ],
   "source": [
    "\n",
    "# Save the vectorizer\n",
    "joblib.dump(tfidf_vectorizer, 'app/vectorizer.pkl')"
   ]
  }
 ],
 "metadata": {
  "kernelspec": {
   "display_name": "adv_ai",
   "language": "python",
   "name": "python3"
  },
  "language_info": {
   "codemirror_mode": {
    "name": "ipython",
    "version": 3
   },
   "file_extension": ".py",
   "mimetype": "text/x-python",
   "name": "python",
   "nbconvert_exporter": "python",
   "pygments_lexer": "ipython3",
   "version": "3.11.9"
  }
 },
 "nbformat": 4,
 "nbformat_minor": 5
}
